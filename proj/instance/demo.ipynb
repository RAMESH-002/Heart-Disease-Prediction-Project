{
 "cells": [
  {
   "cell_type": "code",
   "execution_count": 1,
   "metadata": {},
   "outputs": [
    {
     "name": "stdout",
     "output_type": "stream",
     "text": [
      "oldpeak     0.438441\n",
      "exang       0.438029\n",
      "cp          0.434854\n",
      "thalach     0.422895\n",
      "ca          0.382085\n",
      "slope       0.345512\n",
      "thal        0.337838\n",
      "gender      0.279501\n",
      "age         0.229324\n",
      "trestbps    0.138772\n",
      "restecg     0.134468\n",
      "chol        0.099966\n",
      "fbs         0.041164\n",
      "dtype: float64\n",
      "Top 5 features selected based on correlation with target are: ['oldpeak', 'exang', 'cp', 'thalach', 'ca']\n"
     ]
    }
   ],
   "source": [
    "# Assuming data is your DataFrame and 'target' is your target variable\n",
    "import pandas as pd\n",
    "data = pd.read_csv('C:\\\\Users\\\\Ramesh\\\\Desktop\\\\heart2.csv')\n",
    "# Compute correlation with target for all columns\n",
    "correlation_with_target = data.drop('target', axis=1).apply(lambda x: x.corr(data['target']))\n",
    "\n",
    "\n",
    "\n",
    "# Rank features based on absolute value of correlation\n",
    "ranked_features = correlation_with_target.abs().sort_values(ascending=False)\n",
    "\n",
    "print(ranked_features)\n",
    "\n",
    "# If you wish to select top n features:\n",
    "n = 5 # Change n as per your requirement\n",
    "top_features = ranked_features.head(n).index.tolist()\n",
    "print(f\"Top {n} features selected based on correlation with target are: {top_features}\")\n",
    "\n",
    "\n",
    "\n",
    "\n",
    "\n"
   ]
  },
  {
   "cell_type": "code",
   "execution_count": null,
   "metadata": {},
   "outputs": [],
   "source": []
  }
 ],
 "metadata": {
  "kernelspec": {
   "display_name": "Python 3",
   "language": "python",
   "name": "python3"
  },
  "language_info": {
   "codemirror_mode": {
    "name": "ipython",
    "version": 3
   },
   "file_extension": ".py",
   "mimetype": "text/x-python",
   "name": "python",
   "nbconvert_exporter": "python",
   "pygments_lexer": "ipython3",
   "version": "3.10.5"
  },
  "orig_nbformat": 4
 },
 "nbformat": 4,
 "nbformat_minor": 2
}
